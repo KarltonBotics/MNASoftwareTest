{
 "cells": [
  {
   "cell_type": "code",
   "execution_count": 1,
   "id": "74995627",
   "metadata": {},
   "outputs": [],
   "source": [
    "#MAESTRÍA EN INTELIGENCIA ARTIFICIAL APLICADA\n",
    "#Pruebas de software y aseguramiento de la calidad\n",
    "#Dr. Gerardo Padilla Zárate\n",
    "\n",
    "#Actividad 4.2. Análisis de requisitos\n",
    "#CARLOS ENRIQUEZ GORGONIO\n",
    "#A01793102\n",
    "#20 de febrero de 2024"
   ]
  },
  {
   "cell_type": "code",
   "execution_count": 2,
   "id": "3ec71c9e",
   "metadata": {},
   "outputs": [
    {
     "data": {
      "text/plain": [
       "'Ejercicio 1. Compute statistics\\nDetalles:\\nReq1. The program shall be invoked from a command line. The program shall receive a file as parameter. The file will contain a list of items (presumable numbers).\\nReq 2. The program shall compute all descriptive statistics from a file containing numbers. The results shall be print on a screen and on a file named StatisticsResults.txt. All computation MUST \\nbe calculated using the basic algorithms, not functions or libraries.The descriptive statistics are mean, median, mode, standard deviation, and variance.\\nReq 3. The program shall include the mechanism to handle invalid data in the file. Errors should be displayed in the console and the execution must continue.\\nReq 4. The name of the program shall becomputeStatistics.py\\nReq 5. The minimum format to invoke the program shall be as follows:python computeStatistics.py fileWithData.txt\\nReq 6. The program shall manage files having from hundreds of items to thousands of items.\\nReq 7. The program should include at the end of the execution the time elapsed for the execution and calculus of the data. This \\nnumber shall be included in the results file and on the screen.\\nReq 8. Be compliant with PEP8.\\n'"
      ]
     },
     "execution_count": 2,
     "metadata": {},
     "output_type": "execute_result"
    }
   ],
   "source": [
    "'''Ejercicio 1. Compute statistics\n",
    "Detalles:\n",
    "Req1. The program shall be invoked from a command line. The program shall receive a file as parameter. The file will contain a list of items (presumable numbers).\n",
    "Req 2. The program shall compute all descriptive statistics from a file containing numbers. The results shall be print on a screen and on a file named StatisticsResults.txt. All computation MUST \n",
    "be calculated using the basic algorithms, not functions or libraries.The descriptive statistics are mean, median, mode, standard deviation, and variance.\n",
    "Req 3. The program shall include the mechanism to handle invalid data in the file. Errors should be displayed in the console and the execution must continue.\n",
    "Req 4. The name of the program shall becomputeStatistics.py\n",
    "Req 5. The minimum format to invoke the program shall be as follows:python computeStatistics.py fileWithData.txt\n",
    "Req 6. The program shall manage files having from hundreds of items to thousands of items.\n",
    "Req 7. The program should include at the end of the execution the time elapsed for the execution and calculus of the data. This \n",
    "number shall be included in the results file and on the screen.\n",
    "Req 8. Be compliant with PEP8.\n",
    "'''"
   ]
  },
  {
   "cell_type": "code",
   "execution_count": 3,
   "id": "091c0faf",
   "metadata": {},
   "outputs": [
    {
     "name": "stdout",
     "output_type": "stream",
     "text": [
      "Defaulting to user installation because normal site-packages is not writeable\n",
      "Requirement already satisfied: pylint in c:\\programdata\\anaconda3\\lib\\site-packages (2.16.2)\n",
      "Requirement already satisfied: platformdirs>=2.2.0 in c:\\programdata\\anaconda3\\lib\\site-packages (from pylint) (3.10.0)\n",
      "Requirement already satisfied: astroid<=2.16.0-dev0,>=2.14.2 in c:\\programdata\\anaconda3\\lib\\site-packages (from pylint) (2.14.2)\n",
      "Requirement already satisfied: isort<6,>=4.2.5 in c:\\programdata\\anaconda3\\lib\\site-packages (from pylint) (5.9.3)\n",
      "Requirement already satisfied: mccabe<0.8,>=0.6 in c:\\programdata\\anaconda3\\lib\\site-packages (from pylint) (0.7.0)\n",
      "Requirement already satisfied: tomlkit>=0.10.1 in c:\\programdata\\anaconda3\\lib\\site-packages (from pylint) (0.11.1)\n",
      "Requirement already satisfied: dill>=0.3.6 in c:\\programdata\\anaconda3\\lib\\site-packages (from pylint) (0.3.6)\n",
      "Requirement already satisfied: colorama>=0.4.5 in c:\\programdata\\anaconda3\\lib\\site-packages (from pylint) (0.4.6)\n",
      "Requirement already satisfied: lazy-object-proxy>=1.4.0 in c:\\programdata\\anaconda3\\lib\\site-packages (from astroid<=2.16.0-dev0,>=2.14.2->pylint) (1.6.0)\n",
      "Requirement already satisfied: wrapt<2,>=1.14 in c:\\programdata\\anaconda3\\lib\\site-packages (from astroid<=2.16.0-dev0,>=2.14.2->pylint) (1.14.1)\n",
      "Defaulting to user installation because normal site-packages is not writeable\n",
      "Requirement already satisfied: pylint[spelling] in c:\\programdata\\anaconda3\\lib\\site-packages (2.16.2)\n",
      "Requirement already satisfied: platformdirs>=2.2.0 in c:\\programdata\\anaconda3\\lib\\site-packages (from pylint[spelling]) (3.10.0)\n",
      "Requirement already satisfied: astroid<=2.16.0-dev0,>=2.14.2 in c:\\programdata\\anaconda3\\lib\\site-packages (from pylint[spelling]) (2.14.2)\n",
      "Requirement already satisfied: isort<6,>=4.2.5 in c:\\programdata\\anaconda3\\lib\\site-packages (from pylint[spelling]) (5.9.3)\n",
      "Requirement already satisfied: mccabe<0.8,>=0.6 in c:\\programdata\\anaconda3\\lib\\site-packages (from pylint[spelling]) (0.7.0)\n",
      "Requirement already satisfied: tomlkit>=0.10.1 in c:\\programdata\\anaconda3\\lib\\site-packages (from pylint[spelling]) (0.11.1)\n",
      "Requirement already satisfied: dill>=0.3.6 in c:\\programdata\\anaconda3\\lib\\site-packages (from pylint[spelling]) (0.3.6)\n",
      "Requirement already satisfied: colorama>=0.4.5 in c:\\programdata\\anaconda3\\lib\\site-packages (from pylint[spelling]) (0.4.6)\n",
      "Requirement already satisfied: pyenchant~=3.2 in c:\\users\\traba\\appdata\\roaming\\python\\python311\\site-packages (from pylint[spelling]) (3.2.2)\n",
      "Requirement already satisfied: lazy-object-proxy>=1.4.0 in c:\\programdata\\anaconda3\\lib\\site-packages (from astroid<=2.16.0-dev0,>=2.14.2->pylint[spelling]) (1.6.0)\n",
      "Requirement already satisfied: wrapt<2,>=1.14 in c:\\programdata\\anaconda3\\lib\\site-packages (from astroid<=2.16.0-dev0,>=2.14.2->pylint[spelling]) (1.14.1)\n"
     ]
    }
   ],
   "source": [
    "!pip install pylint\n",
    "!pip install pylint[spelling]\n"
   ]
  },
  {
   "cell_type": "code",
   "execution_count": 4,
   "id": "799538a4",
   "metadata": {},
   "outputs": [],
   "source": [
    "import sys\n",
    "import time"
   ]
  },
  {
   "cell_type": "code",
   "execution_count": 7,
   "id": "bdb1df69",
   "metadata": {},
   "outputs": [],
   "source": [
    "#La función promedio opera con la formula:(suma de todos los valores)/(numero total de valores)\n",
    "def promedio(valores): \n",
    "    calculo_promedio = sum(valores) / len(valores)\n",
    "    return calculo_promedio"
   ]
  },
  {
   "cell_type": "code",
   "execution_count": 8,
   "id": "da4b789d",
   "metadata": {},
   "outputs": [],
   "source": [
    "#La función mediana devuelve el valor central de una lista ordenada de numeros, si es impart el promedio de los 2 centrales\n",
    "def mediana(valores): \n",
    "\n",
    "    #Primero se crea una variable para ordenar los numeros de menor a mayor\n",
    "    lista_ordenada = sorted(valores)\n",
    "    #Creamos una variable para obtener la longitud de la lista, para saber si es par o impar\n",
    "    longitud = len(lista_ordenada)\n",
    "    calculo_mediana = None\n",
    "\n",
    "    #Si la cantidad de valores es un numero par, promediamos los dos valores centrales de la lista\n",
    "    if longitud % 2 == 0:\n",
    "        media1 = lista_ordenada[longitud // 2 - 1]\n",
    "        media2 = lista_ordenada[longitud // 2]\n",
    "        calculo_mediana = (media1 + media2) / 2\n",
    "    #Si la cantidad de numeros es impar, simplemente obtenemos el valor en el centro de la lista\n",
    "    else:\n",
    "        # If the length of the array is odd, return the middle element\n",
    "        calculo_mediana = lista_ordenada[longitud // 2]\n",
    "\n",
    "    return calculo_mediana"
   ]
  },
  {
   "cell_type": "code",
   "execution_count": 17,
   "id": "91528f8a",
   "metadata": {},
   "outputs": [],
   "source": [
    "#La función moda devuelve el valor que se repite el mayor numero de veces\n",
    "def moda(valores): \n",
    "    \n",
    "    #Si nuestra cadena esta vacía lo indicamos\n",
    "    if not valores:\n",
    "        return \"Sin valores\"\n",
    "    \n",
    "    #Creamos un arreglo para almacenar las repeticiones del valor\n",
    "    frecuencia = {}\n",
    "    for valor in valores:\n",
    "        frecuencia[valor] = frecuencia.get(valor, 0) + 1\n",
    "    \n",
    "    #Obtenemos el valor maximo dentro de nuestro arreglo\n",
    "    maximo = max(frecuencia.values())\n",
    "    \n",
    "    #Ubicamos el valor de maxima repetición dentro de la lista\n",
    "    calculo_moda = [key for key, value in frecuencia.items() if value == maximo]\n",
    "\n",
    "    return \"Sin valores\" if len(calculo_moda) == len(frecuencia.values()) else calculo_moda[0]"
   ]
  },
  {
   "cell_type": "code",
   "execution_count": 18,
   "id": "fda80bd5",
   "metadata": {},
   "outputs": [],
   "source": [
    "#La funcion desviacion estandar nos indica que tan dispersos estan los datos con relación a la media\n",
    "def desviacion_estandar(valores): \n",
    "\n",
    "    # Obtenemos el promedio\n",
    "    promedio = sum(valores) / len(valores)\n",
    "\n",
    "    # Obtenemos la diferencia cuadratica del promedio\n",
    "    diferencia2 = [(x - promedio) ** 2 for x in valores]\n",
    "\n",
    "    # Obtenemos la varianza\n",
    "    varianza = sum(diferencia2) / len(valores)\n",
    "\n",
    "    # Obtenemos la desviación estandar a traves de la raiz cuadrada de la varianza\n",
    "    calculo_desviacion = varianza ** 0.5\n",
    "\n",
    "    return calculo_desviacion"
   ]
  },
  {
   "cell_type": "code",
   "execution_count": 19,
   "id": "30f6cde7",
   "metadata": {},
   "outputs": [],
   "source": [
    "def varianza(valores): \n",
    "\n",
    "    longitud = len(valores)\n",
    "\n",
    "    # Obtenemos el promedio\n",
    "    promedio = sum(valores) / longitud\n",
    "\n",
    "    # Obtenemos la diferencia cuadratica del promedio\n",
    "    diferencia2 = sum((x - promedio) ** 2 for x in valores)\n",
    "\n",
    "    # Obtenemos la varianza\n",
    "    calculo_varianza = diferencia2 / (longitud - 1)\n",
    "\n",
    "    return calculo_varianza"
   ]
  },
  {
   "cell_type": "code",
   "execution_count": 43,
   "id": "6047d7c7",
   "metadata": {},
   "outputs": [],
   "source": [
    "#Función para imprimir las estadisticas descriptivas, considerando el tiempo de ejecución\n",
    "def impresora(ruta):\n",
    "    try:\n",
    "        start_time = time.time()\n",
    "        #Abrimos el archivo\n",
    "        with open(ruta, 'r', encoding=\"utf-8\") as archivo:\n",
    "            renglones = archivo.readlines()\n",
    "\n",
    "        with open(ruta, 'r', encoding=\"utf-8\") as archivo:\n",
    "            # Read the numbers from the file and convert them to a list\n",
    "            valor_origen = []\n",
    "            for index, renglon in enumerate(archivo):\n",
    "                try:\n",
    "                    valor_origen.append(float(renglon.strip()))\n",
    "                except ValueError:\n",
    "                    print(f\"Error: Se encontro en el renglon {index+1} un valor no numerico\")\n",
    "\n",
    "            imp_promedio = promedio(valor_origen)\n",
    "            imp_mediana = mediana(valor_origen)\n",
    "            imp_moda = moda(valor_origen)\n",
    "            imp_desviacion = desviacion_estandar(valor_origen)\n",
    "            imp_varianza = varianza(valor_origen)\n",
    "\n",
    "            resultado = (\n",
    "                f\"Metricas.\\n SUMATORIA: {len(renglones)}\\n PROMEDIO: {imp_promedio}\\n\" \n",
    "                f\" MEDIANA: {imp_mediana}\\n MODA: {imp_moda}\\n\"\n",
    "                f\" DESVIACIÓN ESTANDAR: {imp_desviacion}\\n VARIANZA: {imp_varianza}\\n\"\n",
    "            )\n",
    "\n",
    "            end_time = time.time()\n",
    "            elapsed_time_ms = (end_time - start_time) * 1000\n",
    "\n",
    "            print(resultado)\n",
    "            print(\"\\n\")\n",
    "            execution_time_result = f\"Tiempo de ejecución: {elapsed_time_ms:.6f} milisegundos\"\n",
    "            print(execution_time_result)\n",
    "            with open(\"StatisticsResults.txt\", \"w\", encoding=\"utf-8\") as file:\n",
    "                # guardmos los resultados en el archivo\n",
    "                print(resultado, file=file)\n",
    "                print(\"\\n\", file=file)\n",
    "                print(execution_time_result, file=file)\n",
    "\n",
    "    except FileNotFoundError:\n",
    "        print(f\"Error: El archivo '{ruta}' No se encuentra.\")"
   ]
  },
  {
   "cell_type": "code",
   "execution_count": 44,
   "id": "72265eb9",
   "metadata": {},
   "outputs": [
    {
     "name": "stdout",
     "output_type": "stream",
     "text": [
      "Metricas.\n",
      " SUMATORIA: 400\n",
      " PROMEDIO: 242.32\n",
      " MEDIANA: 239.5\n",
      " MODA: 393.0\n",
      " DESVIACIÓN ESTANDAR: 145.25810683056557\n",
      " VARIANZA: 21152.79959899749\n",
      "\n",
      "\n",
      "\n",
      "Tiempo de ejecución: 0.000000 milisegundos\n"
     ]
    }
   ],
   "source": [
    "#Para fines de observar resultados invocamos el archivo desde una ruta local, posteriormente queda la opción de invocarlo desde consola\n",
    "impresora(\"C:/Users/traba/Downloads/TC1.txt\")\n",
    "#impresora(\"C:\\Users\\traba\\Downloads\\TC1.txt\")"
   ]
  },
  {
   "cell_type": "code",
   "execution_count": 30,
   "id": "ab0e3acf",
   "metadata": {},
   "outputs": [
    {
     "name": "stdout",
     "output_type": "stream",
     "text": [
      "Introduce la ruta como se muestra: python compute_statistics.py P1/TC2.txt\n"
     ]
    },
    {
     "ename": "SystemExit",
     "evalue": "1",
     "output_type": "error",
     "traceback": [
      "An exception has occurred, use %tb to see the full traceback.\n",
      "\u001b[1;31mSystemExit\u001b[0m\u001b[1;31m:\u001b[0m 1\n"
     ]
    }
   ],
   "source": [
    "if __name__ == \"__main__\":\n",
    "    # Verificamos los parametros en la linea de comando, en caso de estar vacía, solicitamos la información\n",
    "    if len(sys.argv) != 2:\n",
    "        print(\"Introduce la ruta como se muestra: python compute_statistics.py P1/TC2.txt\")\n",
    "        sys.exit(1)\n",
    "\n",
    "    # obtenemos la ruta de los archivos\n",
    "    ruta_archivo = sys.argv[1]\n",
    "\n",
    "    # Invocamos nuestra función principal para imprimir las estadisticas\n",
    "    impresora(ruta_archivo)"
   ]
  }
 ],
 "metadata": {
  "kernelspec": {
   "display_name": "Python 3 (ipykernel)",
   "language": "python",
   "name": "python3"
  },
  "language_info": {
   "codemirror_mode": {
    "name": "ipython",
    "version": 3
   },
   "file_extension": ".py",
   "mimetype": "text/x-python",
   "name": "python",
   "nbconvert_exporter": "python",
   "pygments_lexer": "ipython3",
   "version": "3.11.5"
  }
 },
 "nbformat": 4,
 "nbformat_minor": 5
}
