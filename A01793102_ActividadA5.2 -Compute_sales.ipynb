{
 "cells": [
  {
   "cell_type": "code",
   "execution_count": null,
   "id": "9bf67aa8",
   "metadata": {},
   "outputs": [],
   "source": [
    "#MAESTRÍA EN INTELIGENCIA ARTIFICIAL APLICADA\n",
    "#Pruebas de software y aseguramiento de la calidad\n",
    "#Dr. Gerardo Padilla Zárate\n",
    "\n",
    "#Actividad 5.2. Ejercicio de programación 2 y análisis estático\n",
    "#CARLOS ENRIQUEZ GORGONIO\n",
    "#A01793102\n",
    "#21 de febrero de 2024"
   ]
  },
  {
   "cell_type": "code",
   "execution_count": null,
   "id": "a4394883",
   "metadata": {},
   "outputs": [],
   "source": [
    "'''1. Compute sales\n",
    "Req1. The program shall be invoked from a command line. The program shall receive two files as parameters. The first file will contain information in a JSON format about a catalogue \n",
    "of prices of products. The second file will contain a record for all sales in a company. \n",
    "Req 2. The program shall compute the total cost for all sales included in the second JSON archive. The results shall be print on a screen and on a file named SalesResults.txt. The total cost should include all items in the sale considering the cost for every item in the first file. \n",
    "The output must be human readable, so make it easy to read for the user.\n",
    "Req 3. The program shall include the mechanism to handle invalid data in the file. Errors should be displayed in the console and the execution must continue.\n",
    "Req 4. The name of the program shall be computeSales.py\n",
    "Req 5. The minimum format to invoke the program shall be as follows: python computeSales.py priceCatalogue.json salesRecord.json\n",
    "Req 6. The program shall manage files having from hundreds of items to thousands of items.\n",
    "Req 7. The program should include at the end of the execution the time elapsed for the execution and calculus of the data. This number shall be included in the results file and on the screen.\n",
    "Req 8. Be compliant with PEP8'''"
   ]
  },
  {
   "cell_type": "code",
   "execution_count": 1,
   "id": "4881566f",
   "metadata": {},
   "outputs": [
    {
     "name": "stdout",
     "output_type": "stream",
     "text": [
      "Defaulting to user installation because normal site-packages is not writeable\n",
      "Requirement already satisfied: pylint in c:\\programdata\\anaconda3\\lib\\site-packages (2.16.2)\n",
      "Requirement already satisfied: platformdirs>=2.2.0 in c:\\programdata\\anaconda3\\lib\\site-packages (from pylint) (3.10.0)\n",
      "Requirement already satisfied: astroid<=2.16.0-dev0,>=2.14.2 in c:\\programdata\\anaconda3\\lib\\site-packages (from pylint) (2.14.2)\n",
      "Requirement already satisfied: isort<6,>=4.2.5 in c:\\programdata\\anaconda3\\lib\\site-packages (from pylint) (5.9.3)\n",
      "Requirement already satisfied: mccabe<0.8,>=0.6 in c:\\programdata\\anaconda3\\lib\\site-packages (from pylint) (0.7.0)\n",
      "Requirement already satisfied: tomlkit>=0.10.1 in c:\\programdata\\anaconda3\\lib\\site-packages (from pylint) (0.11.1)\n",
      "Requirement already satisfied: dill>=0.3.6 in c:\\programdata\\anaconda3\\lib\\site-packages (from pylint) (0.3.6)\n",
      "Requirement already satisfied: colorama>=0.4.5 in c:\\programdata\\anaconda3\\lib\\site-packages (from pylint) (0.4.6)\n",
      "Requirement already satisfied: lazy-object-proxy>=1.4.0 in c:\\programdata\\anaconda3\\lib\\site-packages (from astroid<=2.16.0-dev0,>=2.14.2->pylint) (1.6.0)\n",
      "Requirement already satisfied: wrapt<2,>=1.14 in c:\\programdata\\anaconda3\\lib\\site-packages (from astroid<=2.16.0-dev0,>=2.14.2->pylint) (1.14.1)\n",
      "Defaulting to user installation because normal site-packages is not writeable\n",
      "Requirement already satisfied: pylint[spelling] in c:\\programdata\\anaconda3\\lib\\site-packages (2.16.2)\n",
      "Requirement already satisfied: platformdirs>=2.2.0 in c:\\programdata\\anaconda3\\lib\\site-packages (from pylint[spelling]) (3.10.0)\n",
      "Requirement already satisfied: astroid<=2.16.0-dev0,>=2.14.2 in c:\\programdata\\anaconda3\\lib\\site-packages (from pylint[spelling]) (2.14.2)\n",
      "Requirement already satisfied: isort<6,>=4.2.5 in c:\\programdata\\anaconda3\\lib\\site-packages (from pylint[spelling]) (5.9.3)\n",
      "Requirement already satisfied: mccabe<0.8,>=0.6 in c:\\programdata\\anaconda3\\lib\\site-packages (from pylint[spelling]) (0.7.0)\n",
      "Requirement already satisfied: tomlkit>=0.10.1 in c:\\programdata\\anaconda3\\lib\\site-packages (from pylint[spelling]) (0.11.1)\n",
      "Requirement already satisfied: dill>=0.3.6 in c:\\programdata\\anaconda3\\lib\\site-packages (from pylint[spelling]) (0.3.6)\n",
      "Requirement already satisfied: colorama>=0.4.5 in c:\\programdata\\anaconda3\\lib\\site-packages (from pylint[spelling]) (0.4.6)\n",
      "Requirement already satisfied: pyenchant~=3.2 in c:\\users\\traba\\appdata\\roaming\\python\\python311\\site-packages (from pylint[spelling]) (3.2.2)\n",
      "Requirement already satisfied: lazy-object-proxy>=1.4.0 in c:\\programdata\\anaconda3\\lib\\site-packages (from astroid<=2.16.0-dev0,>=2.14.2->pylint[spelling]) (1.6.0)\n",
      "Requirement already satisfied: wrapt<2,>=1.14 in c:\\programdata\\anaconda3\\lib\\site-packages (from astroid<=2.16.0-dev0,>=2.14.2->pylint[spelling]) (1.14.1)\n",
      "Defaulting to user installation because normal site-packages is not writeable\n",
      "Requirement already satisfied: flake8 in c:\\programdata\\anaconda3\\lib\\site-packages (6.0.0)\n",
      "Requirement already satisfied: mccabe<0.8.0,>=0.7.0 in c:\\programdata\\anaconda3\\lib\\site-packages (from flake8) (0.7.0)\n",
      "Requirement already satisfied: pycodestyle<2.11.0,>=2.10.0 in c:\\programdata\\anaconda3\\lib\\site-packages (from flake8) (2.10.0)\n",
      "Requirement already satisfied: pyflakes<3.1.0,>=3.0.0 in c:\\programdata\\anaconda3\\lib\\site-packages (from flake8) (3.0.1)\n"
     ]
    }
   ],
   "source": [
    "!pip install pylint\n",
    "!pip install pylint[spelling]\n",
    "!pip install flake8"
   ]
  },
  {
   "cell_type": "code",
   "execution_count": 2,
   "id": "a24ead92",
   "metadata": {},
   "outputs": [],
   "source": [
    "import sys\n",
    "import time\n",
    "import json"
   ]
  },
  {
   "cell_type": "code",
   "execution_count": 3,
   "id": "0bd4a977",
   "metadata": {},
   "outputs": [],
   "source": [
    "#Definimos una función que generara la suma de ventas, considerando aquellos que se vendieron mas de 1 vez.\n",
    "def sumatoria(ventas, catalogo):\n",
    "    \n",
    "    #Creamos una variable que integrará la sumatoria\n",
    "    total = 0\n",
    "    \n",
    "    #Recorremos los elementos de nuestra cadena de ventas y nuestro catalogo\n",
    "    for venta in ventas:\n",
    "        if venta['Product'] not in catalogo:\n",
    "            print(f\"No se enceuntra el articulo '{venta['Product']}' en el catalogo\"\n",
    "            )\n",
    "        else:\n",
    "            articulo = catalogo.get(venta['Product'])\n",
    "            #Multiplicamos el precio por la cantidad de productos adquiridos\n",
    "            cuantifica = articulo['price'] * venta['Quantity']\n",
    "            total = total + cuantifica\n",
    "\n",
    "    return total"
   ]
  },
  {
   "cell_type": "code",
   "execution_count": 4,
   "id": "ce3ec87c",
   "metadata": {},
   "outputs": [],
   "source": [
    "def impresora(ruta_productos, ruta_ventas):\n",
    "\n",
    "    #Iniciamos nuestro temporizador\n",
    "    inicio = time.time()\n",
    "    \n",
    "    #Creamos nuestras listas que serviran como argumentos para llamar la función de calculo de ventas\n",
    "    productos = None\n",
    "    ventas = None\n",
    "    \n",
    "    try:\n",
    "        #Abrimos el archivo con la lista de productos\n",
    "        with open(ruta_productos, 'r', encoding=\"utf-8\") as archivo:\n",
    "            productos = json.load(archivo)\n",
    "    except FileNotFoundError:\n",
    "        print(f\"Error: Archivo no encontrado en la ruta '{ruta_productos}'\")\n",
    "\n",
    "    try:\n",
    "        #Abrimos el archivo con los detalles de las ventas\n",
    "        with open(ruta_ventas, 'r', encoding=\"utf-8\") as archivo:\n",
    "            ventas = json.load(archivo)\n",
    "    except FileNotFoundError:\n",
    "        print(f\"Error: Archivo no encontrado en la ruta '{ruta_ventas}'\")\n",
    "\n",
    "    catalogo = dict(\n",
    "        (product['title'], product) for product in productos\n",
    "    )\n",
    "    total = sumatoria(ventas, catalogo)\n",
    "\n",
    "    total_acumulado = (\n",
    "        f\"TOTAL ACUMULADO DE VENTAS: \\n\"\n",
    "        f\"{total}\"\n",
    "    )\n",
    "\n",
    "    fin = time.time()\n",
    "    temporizador = (fin - inicio) * 1000\n",
    "\n",
    "    print(total_acumulado)\n",
    "    print(\"\\n\")\n",
    "    tiempo_total = (f\"tiempo de ejecución en milisegundos: {temporizador:.6f}\")\n",
    "    print(tiempo_total)\n",
    "    \n",
    "    #Imprimimos resultados en un archivo\n",
    "    with open(\"SalesResults.txt\", \"w\", encoding=\"utf-8\") as file:\n",
    "        print(total_acumulado, file=file)\n",
    "        print(\"\\n\", file=file)\n",
    "        print(tiempo_total, file=file)"
   ]
  },
  {
   "cell_type": "code",
   "execution_count": 5,
   "id": "5858a693",
   "metadata": {},
   "outputs": [
    {
     "name": "stdout",
     "output_type": "stream",
     "text": [
      "TOTAL ACUMULADO DE VENTAS: \n",
      "2481.8600000000006\n",
      "\n",
      "\n",
      "tiempo de ejecución en milisegundos: 0.999451\n"
     ]
    }
   ],
   "source": [
    "#Para fines de observar resultados invocamos el archivo desde una ruta local, posteriormente queda la opción de invocarlo desde consola\n",
    "impresora(\"C:/Users/traba/Downloads/TC1P.json\",\"C:/Users/traba/Downloads/TC1S.json\")\n",
    "#impresora(\"C:\\Users\\traba\\Downloads\\TC1.txt\")"
   ]
  },
  {
   "cell_type": "code",
   "execution_count": null,
   "id": "067e6eac",
   "metadata": {
    "scrolled": false
   },
   "outputs": [],
   "source": [
    "if __name__ == \"__main__\":\n",
    "    # si no hay 3 argumentos en nuestra linea de comando inicial, indica la forma de introducirlos\n",
    "    if len(sys.argv) != 3:\n",
    "        print(\"Introduce los parametros y la rutas como se muestra:\"\n",
    "            \"python computeSales.py \"\n",
    "            \"priceCatalogue.json salesRecord.json\"\n",
    "        )\n",
    "        sys.exit(1)\n",
    "\n",
    "    #Creamos las variables que alojan las rutas de los archivos obtenidos como argumentos inciales\n",
    "    archivo_con_productos = sys.argv[1]\n",
    "    archivo_con_ventas = sys.argv[2]\n",
    "\n",
    "    # invocamos nuestra funcion principal\n",
    "    impresora(archivo_con_productos, archivo_con_ventas)\n"
   ]
  }
 ],
 "metadata": {
  "kernelspec": {
   "display_name": "Python 3 (ipykernel)",
   "language": "python",
   "name": "python3"
  },
  "language_info": {
   "codemirror_mode": {
    "name": "ipython",
    "version": 3
   },
   "file_extension": ".py",
   "mimetype": "text/x-python",
   "name": "python",
   "nbconvert_exporter": "python",
   "pygments_lexer": "ipython3",
   "version": "3.11.5"
  }
 },
 "nbformat": 4,
 "nbformat_minor": 5
}
